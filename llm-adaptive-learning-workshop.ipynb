{
 "cells": [
  {
   "cell_type": "markdown",
   "metadata": {},
   "source": [
    "# LLMs for Adaptive Learning Systems: API Use + Prompt Engineering Workshop\n",
    "\n",
    "Welcome! This hands-on workshop introduces using LLM APIs and practical prompt engineering to build adaptive learning capabilities.\n",
    "\n",
    "You will learn to:\n",
    "- Set up an LLM client and prompt utilities\n",
    "- Apply core prompting techniques (zero-shot, few-shot, CoT, role prompts, constraints)\n",
    "- Build two adaptive learning tasks:\n",
    "  1) Generate assessments (items, rubrics, feedback)\n",
    "  2) Extract fine-grained knowledge components (KCs) and edges to form a learning graph\n",
    "- Evaluate prompts for effectiveness, safety, and ethics\n",
    "- Iterate with exercises and checkpoints\n",
    "\n",
    "Prereqs: Python 3.10+, an `OPENAI_API_KEY` in your environment, packages from `requirements.txt` installed.\n"
   ]
  },
  {
   "cell_type": "code",
   "execution_count": 1,
   "metadata": {},
   "outputs": [
    {
     "name": "stdout",
     "output_type": "stream",
     "text": [
      "3.11.13 (main, Sep  2 2025, 14:20:25) [Clang 20.1.4 ]\n"
     ]
    }
   ],
   "source": [
    "import sys\n",
    "import os\n",
    "print(sys.version)"
   ]
  },
  {
   "cell_type": "code",
   "execution_count": 2,
   "metadata": {},
   "outputs": [],
   "source": [
    "os.environ[\"OPENAI_API_KEY\"] = \"\""
   ]
  },
  {
   "cell_type": "code",
   "execution_count": 3,
   "metadata": {},
   "outputs": [
    {
     "name": "stderr",
     "output_type": "stream",
     "text": [
      "/home/eric/Desktop/intelligent-tutor/Prompt_Engineering/.venv/lib/python3.11/site-packages/tqdm/auto.py:21: TqdmWarning: IProgress not found. Please update jupyter and ipywidgets. See https://ipywidgets.readthedocs.io/en/stable/user_install.html\n",
      "  from .autonotebook import tqdm as notebook_tqdm\n"
     ]
    },
    {
     "name": "stdout",
     "output_type": "stream",
     "text": [
      "Setup complete.\n"
     ]
    }
   ],
   "source": [
    "# Setup\n",
    "from dotenv import load_dotenv\n",
    "from dataclasses import dataclass\n",
    "\n",
    "# Core LLM + LangChain\n",
    "from langchain_openai import ChatOpenAI\n",
    "from langchain.prompts import PromptTemplate\n",
    "from langchain.output_parsers import RegexParser\n",
    "from langchain.text_splitter import RecursiveCharacterTextSplitter\n",
    "\n",
    "# Evaluation utilities\n",
    "from sklearn.metrics.pairwise import cosine_similarity\n",
    "\n",
    "# Graph + viz\n",
    "import networkx as nx\n",
    "\n",
    "# Misc\n",
    "import json\n",
    "from typing import Optional, Dict, Any\n",
    "load_dotenv()\n",
    "os.environ[\"OPENAI_API_KEY\"] = os.getenv(\"OPENAI_API_KEY\", \"\")\n",
    "\n",
    "\n",
    "# Choose small, fast default; can override per cell\n",
    "LLM_DEFAULT_MODEL = \"gpt-4o-mini\"\n",
    "llm = ChatOpenAI(model=LLM_DEFAULT_MODEL, temperature=0)\n",
    "\n",
    "\n",
    "print(\"Setup complete.\")\n"
   ]
  },
  {
   "cell_type": "code",
   "execution_count": 4,
   "metadata": {
    "scrolled": true
   },
   "outputs": [
    {
     "name": "stdout",
     "output_type": "stream",
     "text": [
      "LLM helpers ready.\n"
     ]
    }
   ],
   "source": [
    "@dataclass\n",
    "class LLMConfig:\n",
    "    model: str = LLM_DEFAULT_MODEL\n",
    "    temperature: float = 0.0\n",
    "\n",
    "def get_llm(config: Optional[LLMConfig] = None) -> ChatOpenAI:\n",
    "    cfg = config or LLMConfig()\n",
    "    return ChatOpenAI(model=cfg.model, temperature=cfg.temperature)\n",
    "\n",
    "def run_prompt(template: str, inputs: Dict[str, Any], config: Optional[LLMConfig] = None) -> str:\n",
    "    chain = PromptTemplate.from_template(template) | get_llm(config)\n",
    "    return chain.invoke(inputs).content\n",
    "\n",
    "def require_nonempty_env(var: str):\n",
    "    if not os.getenv(var):\n",
    "        raise EnvironmentError(f\"Missing required environment variable: {var}\")\n",
    "\n",
    "# Check API key exists\n",
    "require_nonempty_env(\"OPENAI_API_KEY\")\n",
    "print(\"LLM helpers ready.\")"
   ]
  },
  {
   "cell_type": "markdown",
   "metadata": {},
   "source": [
    "## Workshop Roadmap\n",
    "\n",
    "- Part 1: Prompting foundations (zero-shot, few-shot, role, CoT, constraints)\n",
    "- Part 2: Adaptive assessment generation\n",
    "- Part 3: Knowledge component graph extraction + visualization\n",
    "- Part 4: Evaluation, ethics, and safety\n",
    "- Part 5: Exercises and checkpoints\n"
   ]
  },
  {
   "cell_type": "code",
   "execution_count": 5,
   "metadata": {},
   "outputs": [
    {
     "name": "stdout",
     "output_type": "stream",
     "text": [
      "Correct\n",
      "Partially Correct\n",
      "Remember that the derivative tells you how the function changes as x changes. For a power of x, you can use the power rule: bring down the exponent in front and decrease the exponent by one. What do you get?\n",
      "To find the average speed, we need to calculate the total distance traveled and the total time taken.\n",
      "\n",
      "1. **Calculate the total distance**:\n",
      "   - First part: 150 km\n",
      "   - Second part: 100 km\n",
      "   - Total distance = 150 km + 100 km = 250 km\n",
      "\n",
      "2. **Calculate the time taken for each part of the journey**:\n",
      "   - For the first part (150 km at 60 km/h):\n",
      "     - Time = Distance / Speed = 150 km / 60 km/h = 2.5 hours\n",
      "   - For the second part (100 km at 50 km/h):\n",
      "     - Time = Distance / Speed = 100 km / 50 km/h = 2 hours\n",
      "\n",
      "3. **Calculate the total time**:\n",
      "   - Total time = Time for first part + Time for second part = 2.5 hours + 2 hours = 4.5 hours\n",
      "\n",
      "4. **Calculate the average speed**:\n",
      "   - Average speed = Total distance / Total time = 250 km / 4.5 hours ≈ 55.56 km/h\n",
      "\n",
      "Final answer:\n",
      "\n",
      "Answer: 55.56 km/h\n",
      "Level: Intermediate  \n",
      "Outcome: Students will be able to identify and classify polynomial functions based on their degree and leading coefficient.\n",
      "Parse failed: Could not parse output: Level: Intermediate  \n",
      "Outcome: Students will be able to identify and classify polynomial functions based on their degree and leading coefficient.\n"
     ]
    }
   ],
   "source": [
    "# Part 1: Prompting foundations\n",
    "\n",
    "# 1A. Zero-shot prompting\n",
    "zs_template = \"\"\"Classify the student's response as Correct, Partially Correct, or Incorrect.\n",
    "Response: {response}\n",
    "Label:\"\"\"\n",
    "print(run_prompt(zs_template, {\"response\": \"The derivative of x^2 is 2x.\"}))\n",
    "\n",
    "# 1B. Few-shot prompting\n",
    "fs_template = \"\"\"Classify the student's response as Correct, Partially Correct, or Incorrect.\n",
    "\n",
    "Examples:\n",
    "Q: The derivative of x^2 is 2x\n",
    "A: Correct\n",
    "Q: The derivative of x^2 is x\n",
    "A: Incorrect\n",
    "Q: The derivative of x^2 is x^2\n",
    "A: Incorrect\n",
    "\n",
    "Now classify:\n",
    "Q: {response}\n",
    "A:\"\"\"\n",
    "print(run_prompt(fs_template, {\"response\": \"The derivative of x^2 is 2x + 1\"}))\n",
    "\n",
    "# 1C. Role prompting\n",
    "role_template = \"\"\"You are an experienced math teacher. Provide a concise, student-friendly hint for the problem without revealing the answer.\n",
    "Problem: {problem}\n",
    "Hint:\"\"\"\n",
    "print(run_prompt(role_template, {\"problem\": \"Find the derivative of x^2.\"}))\n",
    "\n",
    "# 1D. Chain-of-thought (skim-length)\n",
    "cot_template = \"\"\"Reason step-by-step (briefly) then give the final answer on a new line starting with 'Answer:'.\n",
    "Problem: {problem}\n",
    "Reasoning:\"\"\"\n",
    "print(run_prompt(cot_template, {\"problem\": \"A car travels 150 km at 60 km/h, then 100 km at 50 km/h. What is average speed?\"}))\n",
    "\n",
    "# 1E. Constrained output (regex parse example)\n",
    "parser = RegexParser(\n",
    "    regex=r\"Level:\\s*(Beginner|Intermediate|Advanced)\\nOutcome:\\s*(.*)\",\n",
    "    output_keys=[\"level\", \"outcome\"],\n",
    ")\n",
    "constraint_template = \"\"\"Given the learning goal, select a difficulty level and write a one-sentence outcome.\n",
    "Format exactly:\n",
    "Level: <Beginner|Intermediate|Advanced>\n",
    "Outcome: <one sentence>\n",
    "\n",
    "Learning goal: {goal}\n",
    "\"\"\"\n",
    "raw = run_prompt(constraint_template, {\"goal\": \"Differentiate polynomial functions.\"})\n",
    "print(raw)\n",
    "try:\n",
    "    print(parser.parse(raw))\n",
    "except Exception as e:\n",
    "    print(\"Parse failed:\", e)\n"
   ]
  },
  {
   "cell_type": "markdown",
   "metadata": {},
   "source": [
    "## Part 2: Adaptive Assessment Generation\n",
    "\n",
    "We will generate assessment items for a target learning goal and learner profile, then add rubrics and feedback. We'll also include constraints and evaluation helpers.\n"
   ]
  },
  {
   "cell_type": "code",
   "execution_count": 6,
   "metadata": {},
   "outputs": [
    {
     "data": {
      "text/plain": [
       "[{'item': 'Differentiate the function f(x) = 3x^4 + 5x^2 - 7 using the power rule.',\n",
       "  'answer': \"f'(x) = 12x^3 + 10x\",\n",
       "  'difficulty': 'Beginner',\n",
       "  'blooms_level': 'Apply',\n",
       "  'rubric': ['Correctly applies the power rule to each term.',\n",
       "   'Accurately combines the results into a single derivative expression.',\n",
       "   'Shows clear understanding of differentiation without errors.']},\n",
       " {'item': 'Differentiate the function g(x) = 2x^3 + 4x - 9 + x^2 using the sum rule and power rule.',\n",
       "  'answer': \"g'(x) = 6x^2 + 4 + 2x\",\n",
       "  'difficulty': 'Intermediate',\n",
       "  'blooms_level': 'Apply',\n",
       "  'rubric': ['Correctly identifies and applies the sum rule to separate terms.',\n",
       "   'Accurately differentiates each term using the power rule.',\n",
       "   'Combines the derivatives correctly into a final answer.']},\n",
       " {'item': \"Given the function h(x) = 5x^5 - 3x^4 + 2x^3 + 7, find h'(x) and explain the steps taken.\",\n",
       "  'answer': \"h'(x) = 25x^4 - 12x^3 + 6x^2; Steps: 1) Apply power rule to each term, 2) Combine results, 3) Write final expression.\",\n",
       "  'difficulty': 'Advanced',\n",
       "  'blooms_level': 'Analyze',\n",
       "  'rubric': ['Correctly differentiates each term using the power rule.',\n",
       "   'Clearly explains the steps taken in the differentiation process.',\n",
       "   'Presents the final derivative in a well-organized manner.']}]"
      ]
     },
     "execution_count": 6,
     "metadata": {},
     "output_type": "execute_result"
    }
   ],
   "source": [
    "assessment_schema = {\n",
    "    \"item\": str,\n",
    "    \"answer\": str,\n",
    "    \"difficulty\": str,  # Beginner|Intermediate|Advanced\n",
    "    \"blooms_level\": str,\n",
    "    \"rubric\": str,\n",
    "}\n",
    "\n",
    "assessment_prompt = \"\"\"\n",
    "You are an assessment designer for adaptive learning.\n",
    "Given a learning goal and learner profile, write 3 assessment items.\n",
    "For each item provide: item, answer, difficulty (Beginner|Intermediate|Advanced), Bloom's level, and a 3-bullet rubric.\n",
    "\n",
    "Return strict JSON list with fields: item, answer, difficulty, blooms_level, rubric.\n",
    "\n",
    "Learning goal: {goal}\n",
    "Learner profile: {profile}\n",
    "\"\"\"\n",
    "\n",
    "def generate_assessment(goal: str, profile: str) -> list[dict]:\n",
    "    raw = run_prompt(assessment_prompt, {\"goal\": goal, \"profile\": profile})\n",
    "    try:\n",
    "        data = json.loads(raw)\n",
    "        assert isinstance(data, list)\n",
    "        return data\n",
    "    except Exception:\n",
    "        # Fallback: attempt to extract JSON\n",
    "        start = raw.find(\"[\")\n",
    "        end = raw.rfind(\"]\")\n",
    "        if start != -1 and end != -1:\n",
    "            return json.loads(raw[start:end+1])\n",
    "        raise ValueError(\"Model did not return valid JSON. Got:\\n\" + raw)\n",
    "\n",
    "examples = generate_assessment(\n",
    "    goal=\"Differentiate polynomial functions (power rule, sum rule)\",\n",
    "    profile=\"Adult learner, rusty algebra, prefers concise explanations\"\n",
    ")\n",
    "examples\n"
   ]
  },
  {
   "cell_type": "code",
   "execution_count": 12,
   "metadata": {},
   "outputs": [],
   "source": [
    "# Auto-feedback generator from rubric\n",
    "feedback_template = \"\"\"Act as a grader. Using the rubric below, assess the student response.\n",
    "Return JSON with fields: decision (Correct|Partially Correct|Incorrect), comments (2-3 bullet points), and next_hint (one sentence).\n",
    "\n",
    "Rubric:\n",
    "{rubric}\n",
    "\n",
    "Item: {item}\n",
    "Target answer: {answer}\n",
    "Student response: {student}\n",
    "\"\"\"\n",
    "\n",
    "def generate_feedback(rubric: str, item: str, answer: str, student: str) -> dict:\n",
    "    raw = run_prompt(feedback_template, {\n",
    "        \"rubric\": rubric,\n",
    "        \"item\": item,\n",
    "        \"answer\": answer,\n",
    "        \"student\": student,\n",
    "    })\n",
    "    try:\n",
    "        return json.loads(raw)\n",
    "    except Exception:\n",
    "        start = raw.find(\"{\")\n",
    "        end = raw.rfind(\"}\")\n",
    "        if start != -1 and end != -1:\n",
    "            return json.loads(raw[start:end+1])\n",
    "        return {\"decision\": \"Partially Correct\", \"comments\": [raw[:200]], \"next_hint\": \"Review the target concept.\"}\n",
    "\n",
    "if examples:\n",
    "    ex = examples[0]\n",
    "    fb = generate_feedback(ex[\"rubric\"], ex[\"item\"], ex[\"answer\"], \"The derivative is x^2\")\n",
    "    fb\n"
   ]
  },
  {
   "cell_type": "markdown",
   "metadata": {},
   "source": [
    "## Part 3: Knowledge Component (KC) Graph Extraction\n",
    "\n",
    "We will extract fine-grained knowledge components for a given learning goal, then infer edges (prerequisite, depends-on, is-example-of). We'll visualize with NetworkX.\n"
   ]
  },
  {
   "cell_type": "code",
   "execution_count": 13,
   "metadata": {},
   "outputs": [
    {
     "data": {
      "text/plain": [
       "[('understand polynomial functions',\n",
       "  'identify degree of polynomial',\n",
       "  {'rel': 'prerequisite'}),\n",
       " ('understand polynomial functions',\n",
       "  'graph polynomial functions',\n",
       "  {'rel': 'is_example_of'}),\n",
       " ('identify degree of polynomial',\n",
       "  'apply power rule',\n",
       "  {'rel': 'prerequisite'}),\n",
       " ('apply power rule', 'differentiate monomials', {'rel': 'prerequisite'}),\n",
       " ('differentiate monomials', 'simplify derivatives', {'rel': 'depends_on'})]"
      ]
     },
     "execution_count": 13,
     "metadata": {},
     "output_type": "execute_result"
    }
   ],
   "source": [
    "kc_nodes_prompt = \"\"\"\n",
    "Extract atomic knowledge components (KCs) required to master the learning goal.\n",
    "Return 8-15 short node names, each a granular skill or concept (no punctuation).\n",
    "Return JSON list of strings only.\n",
    "\n",
    "Learning goal: {goal}\n",
    "\"\"\"\n",
    "\n",
    "kc_edges_prompt = \"\"\"\n",
    "Given KC nodes for a learning goal, propose directed edges with relation types from:\n",
    "- prerequisite\n",
    "- depends_on\n",
    "- is_example_of\n",
    "\n",
    "Return JSON list of objects: {{\"source\": str, \"target\": str, \"rel\": str}}.\n",
    "\n",
    "Nodes:\n",
    "{nodes}\n",
    "\"\"\"\n",
    "\n",
    "def extract_kc_graph(goal: str) -> tuple[list[str], list[dict]]:\n",
    "    nodes_raw = run_prompt(kc_nodes_prompt, {\"goal\": goal})\n",
    "    try:\n",
    "        nodes = json.loads(nodes_raw)\n",
    "    except Exception:\n",
    "        start = nodes_raw.find(\"[\")\n",
    "        end = nodes_raw.rfind(\"]\")\n",
    "        nodes = json.loads(nodes_raw[start:end+1])\n",
    "    edges_raw = run_prompt(kc_edges_prompt, {\"nodes\": json.dumps(nodes)})\n",
    "    try:\n",
    "        edges = json.loads(edges_raw)\n",
    "    except Exception:\n",
    "        start = edges_raw.find(\"[\")\n",
    "        end = edges_raw.rfind(\"]\")\n",
    "        edges = json.loads(edges_raw[start:end+1])\n",
    "    return nodes, edges\n",
    "\n",
    "\n",
    "def build_graph(nodes: list[str], edges: list[dict]) -> nx.DiGraph:\n",
    "    G = nx.DiGraph()\n",
    "    for n in nodes:\n",
    "        G.add_node(n)\n",
    "    for e in edges:\n",
    "        if e.get(\"source\") in G and e.get(\"target\") in G:\n",
    "            G.add_edge(e[\"source\"], e[\"target\"], rel=e.get(\"rel\", \"depends_on\"))\n",
    "    return G\n",
    "\n",
    "nodes, edges = extract_kc_graph(\"Differentiate polynomial functions (power rule, sum rule)\")\n",
    "G = build_graph(nodes, edges)\n",
    "list(G.edges(data=True))[:5]\n"
   ]
  },
  {
   "cell_type": "code",
   "execution_count": 14,
   "metadata": {},
   "outputs": [
    {
     "name": "stdout",
     "output_type": "stream",
     "text": [
      "understand polynomial functions -> identify degree of polynomial [prerequisite]\n",
      "understand polynomial functions -> graph polynomial functions [is_example_of]\n",
      "identify degree of polynomial -> apply power rule [prerequisite]\n",
      "apply power rule -> differentiate monomials [prerequisite]\n",
      "differentiate monomials -> simplify derivatives [depends_on]\n",
      "apply sum rule -> differentiate sums of functions [prerequisite]\n",
      "differentiate sums of functions -> combine derivatives [depends_on]\n",
      "simplify derivatives -> evaluate derivatives at points [depends_on]\n",
      "recognize constant functions -> differentiate constant functions [prerequisite]\n",
      "differentiate constant functions -> simplify derivatives [depends_on]\n"
     ]
    }
   ],
   "source": [
    "# Simple text viz (adjacency listing)\n",
    "for u, v, d in list(G.edges(data=True))[:10]:\n",
    "    print(f\"{u} -> {v} [{d.get('rel')}]\")\n"
   ]
  },
  {
   "cell_type": "markdown",
   "metadata": {},
   "source": [
    "## Part 4: Evaluation, Ethics, and Safety\n"
   ]
  },
  {
   "cell_type": "code",
   "execution_count": 15,
   "metadata": {},
   "outputs": [
    {
     "name": "stdout",
     "output_type": "stream",
     "text": [
      "Sure! Here’s a study plan for Calculus I that spans over four weeks. You can adjust the pace based on your own schedule and understanding of the material.\n",
      "\n",
      "### Week 1: Introduction to Limits and Conti\n"
     ]
    }
   ],
   "source": [
    "# Safety guardrails: injection defense + content filter\n",
    "import re\n",
    "\n",
    "def sanitize_input(user_input: str) -> str:\n",
    "    if \"ignore previous instructions\" in user_input.lower():\n",
    "        raise ValueError(\"Potential prompt injection detected\")\n",
    "    return user_input\n",
    "\n",
    "safety_template = \"\"\"You are an educational assistant. Be helpful and safe.\n",
    "Deny requests for harmful actions. Keep guidance age-appropriate.\n",
    "User: {user}\n",
    "Assistant:\"\"\"\n",
    "\n",
    "print(run_prompt(safety_template, {\"user\": sanitize_input(\"Tell me a study plan for calculus I\")})[:200])\n"
   ]
  },
  {
   "cell_type": "markdown",
   "metadata": {},
   "source": [
    "## Part 5: Exercises and Checkpoints\n",
    "\n",
    "Hands-on activities to reinforce learning. Each exercise includes a target, constraints, and a quick self-check.\n"
   ]
  },
  {
   "cell_type": "code",
   "execution_count": 16,
   "metadata": {},
   "outputs": [
    {
     "name": "stdout",
     "output_type": "stream",
     "text": [
      "Valid schema: True\n"
     ]
    }
   ],
   "source": [
    "ex1_template = \"\"\"Design two assessment items for the learning goal. Include difficulty and Bloom's level.\n",
    "Return JSON list with keys: item, answer, difficulty, blooms_level.\n",
    "Learning goal: {goal}\n",
    "\"\"\"\n",
    "\n",
    "def self_check_contains_keys(objs: list[dict], keys: list[str]) -> bool:\n",
    "    return all(all(k in o for k in keys) for o in objs)\n",
    "\n",
    "# Exercise 1: Author two items\n",
    "raw = run_prompt(ex1_template, {\"goal\": \"Differentiate polynomial functions (power rule, sum rule)\"})\n",
    "try:\n",
    "    ex1 = json.loads(raw)\n",
    "except Exception:\n",
    "    start = raw.find(\"[\")\n",
    "    end = raw.rfind(\"]\")\n",
    "    ex1 = json.loads(raw[start:end+1])\n",
    "\n",
    "print(\"Valid schema:\", self_check_contains_keys(ex1, [\"item\", \"answer\", \"difficulty\", \"blooms_level\"]))\n",
    "ex1 = ex1\n"
   ]
  }
 ],
 "metadata": {
  "kernelspec": {
   "display_name": "Intelligent Tutor",
   "language": "python",
   "name": "venv"
  },
  "language_info": {
   "codemirror_mode": {
    "name": "ipython",
    "version": 3
   },
   "file_extension": ".py",
   "mimetype": "text/x-python",
   "name": "python",
   "nbconvert_exporter": "python",
   "pygments_lexer": "ipython3",
   "version": "3.11.13"
  }
 },
 "nbformat": 4,
 "nbformat_minor": 4
}
